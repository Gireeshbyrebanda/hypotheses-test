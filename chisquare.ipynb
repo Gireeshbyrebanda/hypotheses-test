{
 "cells": [
  {
   "cell_type": "markdown",
   "id": "1e6b8b6b-4b25-4e9c-9b0a-35108f2b1303",
   "metadata": {},
   "source": [
    "#### Chi Square"
   ]
  },
  {
   "cell_type": "code",
   "execution_count": 1,
   "id": "f1cc42fa-9421-42b7-a3c3-16493c4a3673",
   "metadata": {},
   "outputs": [
    {
     "name": "stdout",
     "output_type": "stream",
     "text": [
      "Chi-Square Statistic: 5.638227513227513\n",
      "p-value: 0.22784371130697179\n",
      "Degrees of Freedom: 4\n",
      "Expected frequencies:\n",
      " [[ 48.  72.]\n",
      " [ 72. 108.]\n",
      " [ 60.  90.]\n",
      " [ 32.  48.]\n",
      " [ 28.  42.]]\n"
     ]
    }
   ],
   "source": [
    "import numpy as np\n",
    "from scipy.stats import chi2_contingency\n",
    "\n",
    "# Create the contingency table\n",
    "observed = np.array([[50, 70],\n",
    "                     [80, 100],\n",
    "                     [60, 90],\n",
    "                     [30, 50],\n",
    "                     [20, 50]])\n",
    "\n",
    "# Perform chi-square test\n",
    "chi2, p, dof, expected = chi2_contingency(observed)\n",
    "\n",
    "print(\"Chi-Square Statistic:\", chi2)\n",
    "print(\"p-value:\", p)\n",
    "print(\"Degrees of Freedom:\", dof)\n",
    "print(\"Expected frequencies:\\n\", expected)"
   ]
  },
  {
   "cell_type": "code",
   "execution_count": 4,
   "id": "972ed852-35c9-4d12-b07a-781f8f23207d",
   "metadata": {},
   "outputs": [
    {
     "name": "stdout",
     "output_type": "stream",
     "text": [
      "Critical Value: 9.487729036781154\n"
     ]
    }
   ],
   "source": [
    "from scipy.stats import chi2\n",
    "\n",
    "# Significance level\n",
    "alpha = 0.05\n",
    "\n",
    "# Degrees of freedom\n",
    "df = 4\n",
    "\n",
    "# Find the critical value\n",
    "critical_value = chi2.ppf(1 - alpha, df)\n",
    "\n",
    "print(\"Critical Value:\", critical_value)"
   ]
  },
  {
   "cell_type": "code",
   "execution_count": 5,
   "id": "9454e905-d0ad-46b5-918d-77fc4a58a3dc",
   "metadata": {},
   "outputs": [
    {
     "name": "stdout",
     "output_type": "stream",
     "text": [
      "Test Statistic (t): -38.0\n"
     ]
    }
   ],
   "source": [
    "import math\n",
    "\n",
    "# Given values\n",
    "x_bar = 3050  # sample mean weekly cost\n",
    "mu = 1000 + 5 * 600  # theoretical mean weekly cost\n",
    "sigma = 5 * 25  # standard deviation\n",
    "n = 25  # sample size\n",
    "\n",
    "# Calculate the test statistic\n",
    "t = (x_bar - mu) / (sigma / math.sqrt(n))\n",
    "\n",
    "print(\"Test Statistic (t):\", t)"
   ]
  },
  {
   "cell_type": "code",
   "execution_count": 6,
   "id": "32d1c4fe-8a40-4241-8e26-87927a5db2bd",
   "metadata": {},
   "outputs": [
    {
     "name": "stdout",
     "output_type": "stream",
     "text": [
      "Critical Value from standard normal distribution table: 1.959963984540054\n"
     ]
    }
   ],
   "source": [
    "from scipy.stats import norm\n",
    "\n",
    "# Alpha level\n",
    "alpha = 0.05\n",
    "\n",
    "# Determine the critical value\n",
    "critical_value = norm.ppf(1 - alpha/2)  # Dividing alpha by 2 for a two-tailed test\n",
    "\n",
    "print(\"Critical Value from standard normal distribution table:\", critical_value)"
   ]
  },
  {
   "cell_type": "code",
   "execution_count": null,
   "id": "ef1dbf8f-d060-45be-ad90-0ea276fb4c07",
   "metadata": {},
   "outputs": [],
   "source": []
  }
 ],
 "metadata": {
  "kernelspec": {
   "display_name": "Python 3 (ipykernel)",
   "language": "python",
   "name": "python3"
  },
  "language_info": {
   "codemirror_mode": {
    "name": "ipython",
    "version": 3
   },
   "file_extension": ".py",
   "mimetype": "text/x-python",
   "name": "python",
   "nbconvert_exporter": "python",
   "pygments_lexer": "ipython3",
   "version": "3.11.7"
  }
 },
 "nbformat": 4,
 "nbformat_minor": 5
}
